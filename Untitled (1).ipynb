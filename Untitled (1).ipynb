{
 "cells": [
  {
   "cell_type": "code",
   "execution_count": 5,
   "id": "4bc80259",
   "metadata": {},
   "outputs": [
    {
     "name": "stdout",
     "output_type": "stream",
     "text": [
      "pass\n",
      "pass\n",
      "pass\n",
      "fall\n",
      "pass\n"
     ]
    }
   ],
   "source": [
    "score=[65,80,75,55,90]\n",
    "n=0\n",
    "for i in score:\n",
    "    if i>=60:\n",
    "       print(\"pass\")\n",
    "    else:\n",
    "        print(\"fall\")"
   ]
  },
  {
   "cell_type": "code",
   "execution_count": 8,
   "id": "8d1e7827",
   "metadata": {},
   "outputs": [
    {
     "ename": "NameError",
     "evalue": "name 'date2' is not defined",
     "output_type": "error",
     "traceback": [
      "\u001b[1;31m---------------------------------------------------------------------------\u001b[0m",
      "\u001b[1;31mNameError\u001b[0m                                 Traceback (most recent call last)",
      "\u001b[1;32m~\\AppData\\Local\\Temp/ipykernel_14180/2047103653.py\u001b[0m in \u001b[0;36m<module>\u001b[1;34m\u001b[0m\n\u001b[0;32m      4\u001b[0m \u001b[1;33m\u001b[0m\u001b[0m\n\u001b[0;32m      5\u001b[0m \u001b[0mdata2\u001b[0m\u001b[1;33m=\u001b[0m\u001b[1;33m[\u001b[0m\u001b[0mdic_1\u001b[0m\u001b[1;33m[\u001b[0m\u001b[0mkey\u001b[0m\u001b[1;33m]\u001b[0m \u001b[1;32mfor\u001b[0m \u001b[0mkey\u001b[0m \u001b[1;32min\u001b[0m \u001b[0mdata1\u001b[0m \u001b[1;33m]\u001b[0m\u001b[1;33m\u001b[0m\u001b[1;33m\u001b[0m\u001b[0m\n\u001b[1;32m----> 6\u001b[1;33m \u001b[0mprint\u001b[0m\u001b[1;33m(\u001b[0m\u001b[0mdate2\u001b[0m\u001b[1;33m)\u001b[0m\u001b[1;33m\u001b[0m\u001b[1;33m\u001b[0m\u001b[0m\n\u001b[0m",
      "\u001b[1;31mNameError\u001b[0m: name 'date2' is not defined"
     ]
    }
   ],
   "source": [
    "\n",
    "data1=[\"Cat\", \"Dog\", \"cat\", \"dog\", \"cat\", \"cat\", \"Cat\", \"Dog\", \"dog\", \"Dog\", \"cat\", \"Dog\"]\n",
    "\n",
    "dic_1={\"cat\":1, \"dog\":0, \"Cat\":1, \"Dog\":0}\n",
    "\n",
    "data2=[dic_1[key] for key in data1 ]\n",
    "print(date2)"
   ]
  },
  {
   "cell_type": "code",
   "execution_count": null,
   "id": "99d1f9fd",
   "metadata": {},
   "outputs": [],
   "source": []
  },
  {
   "cell_type": "code",
   "execution_count": null,
   "id": "32d648ee",
   "metadata": {},
   "outputs": [],
   "source": []
  }
 ],
 "metadata": {
  "kernelspec": {
   "display_name": "Python 3 (ipykernel)",
   "language": "python",
   "name": "python3"
  },
  "language_info": {
   "codemirror_mode": {
    "name": "ipython",
    "version": 3
   },
   "file_extension": ".py",
   "mimetype": "text/x-python",
   "name": "python",
   "nbconvert_exporter": "python",
   "pygments_lexer": "ipython3",
   "version": "3.9.7"
  }
 },
 "nbformat": 4,
 "nbformat_minor": 5
}
